{
 "cells": [
  {
   "cell_type": "code",
   "execution_count": 19,
   "metadata": {},
   "outputs": [
    {
     "name": "stdout",
     "output_type": "stream",
     "text": [
      "<class 'list'>\n",
      "\n",
      "\n",
      "<class 'str'>\n",
      "<class 'tuple'>\n",
      "<class 'tuple'>\n"
     ]
    }
   ],
   "source": [
    "user_names_list1 = ['Manuel']\n",
    "\n",
    "user_names_tuple1 = ('Manuel')   #  <--- Note () are not enough to create Tuple without comma shown below)\n",
    "user_names_tuple2 = 'Manuel',    #  <--- Note creation of tuple without () and the comma after 'Manuel'\n",
    "user_names_tuple3 = ('Manuel',)  #  <--- Note the comma after 'Manuel'\n",
    "\n",
    "print(type(user_names_list1))\n",
    "print('\\n')\n",
    "print(type(user_names_tuple1))\n",
    "print(type(user_names_tuple2))\n",
    "print(type(user_names_tuple3))"
   ]
  },
  {
   "cell_type": "code",
   "execution_count": 20,
   "metadata": {},
   "outputs": [
    {
     "name": "stdout",
     "output_type": "stream",
     "text": [
      "['Manuel']\n",
      "Manuel\n",
      "('Manuel',)\n",
      "('Manuel',)\n"
     ]
    }
   ],
   "source": [
    "print(user_names_list1)\n",
    "print(user_names_tuple1)\n",
    "print(user_names_tuple2)\n",
    "print(user_names_tuple3)"
   ]
  },
  {
   "cell_type": "code",
   "execution_count": 45,
   "metadata": {},
   "outputs": [
    {
     "name": "stdout",
     "output_type": "stream",
     "text": [
      "<class 'list'>\n",
      "\n",
      "\n",
      "<class 'tuple'>\n",
      "<class 'tuple'>\n",
      "<class 'tuple'>\n"
     ]
    }
   ],
   "source": [
    "user_names_list2 = ['Manuel', 'Max', 'James', 'Harry']\n",
    "\n",
    "user_names_tuple4 = ('Manuel', 'Max', 'James', 'Harry')   #  <--- Note () are not enough to create Tuple without comma shown below)\n",
    "user_names_tuple5 = 'Manuel', 'Max', 'James', 'Harry'    #  <--- Note creation of tuple without () and the comma after 'Manuel'\n",
    "user_names_tuple6 = ('Manuel', 'Max', 'James', 'Harry')  #  <--- Note the comma after 'Manuel'\n",
    "\n",
    "print(type(user_names_list2))\n",
    "print('\\n')\n",
    "print(type(user_names_tuple4))\n",
    "print(type(user_names_tuple5))\n",
    "print(type(user_names_tuple6))"
   ]
  },
  {
   "cell_type": "code",
   "execution_count": 46,
   "metadata": {},
   "outputs": [
    {
     "name": "stdout",
     "output_type": "stream",
     "text": [
      "['Manuel', 'Max', 'James', 'Harry']\n",
      "('Manuel', 'Max', 'James', 'Harry')\n",
      "('Manuel', 'Max', 'James', 'Harry')\n",
      "('Manuel', 'Max', 'James', 'Harry')\n"
     ]
    }
   ],
   "source": [
    "print(user_names_list2)\n",
    "print(user_names_tuple4)\n",
    "print(user_names_tuple5)\n",
    "print(user_names_tuple6)"
   ]
  },
  {
   "cell_type": "code",
   "execution_count": 47,
   "metadata": {},
   "outputs": [
    {
     "name": "stdout",
     "output_type": "stream",
     "text": [
      "Harry\n",
      "Harry\n",
      "Harry\n",
      "Harry\n"
     ]
    }
   ],
   "source": [
    "# selecting elements by index\n",
    "print(user_names_list2[3])\n",
    "print(user_names_tuple4[3])\n",
    "print(user_names_tuple5[3])\n",
    "print(user_names_tuple6[3])"
   ]
  },
  {
   "cell_type": "code",
   "execution_count": 48,
   "metadata": {},
   "outputs": [
    {
     "name": "stdout",
     "output_type": "stream",
     "text": [
      "['Max', 'James']\n",
      "('Max', 'James')\n",
      "('Max', 'James')\n",
      "('Max', 'James')\n"
     ]
    }
   ],
   "source": [
    "# slicing for a selection\n",
    "print(user_names_list2[1:3])\n",
    "print(user_names_tuple4[1:3])\n",
    "print(user_names_tuple5[1:3])\n",
    "print(user_names_tuple6[1:3])"
   ]
  },
  {
   "cell_type": "code",
   "execution_count": 49,
   "metadata": {},
   "outputs": [
    {
     "ename": "TypeError",
     "evalue": "'tuple' object does not support item assignment",
     "output_type": "error",
     "traceback": [
      "\u001b[1;31m---------------------------------------------------------------------------\u001b[0m",
      "\u001b[1;31mTypeError\u001b[0m                                 Traceback (most recent call last)",
      "\u001b[1;32m<ipython-input-49-0b2bcd2e02d6>\u001b[0m in \u001b[0;36m<module>\u001b[1;34m\u001b[0m\n\u001b[0;32m      1\u001b[0m \u001b[1;31m# changing elements in a list and tuple\u001b[0m\u001b[1;33m\u001b[0m\u001b[1;33m\u001b[0m\u001b[1;33m\u001b[0m\u001b[0m\n\u001b[0;32m      2\u001b[0m \u001b[0muser_names_list2\u001b[0m\u001b[1;33m[\u001b[0m\u001b[1;36m1\u001b[0m\u001b[1;33m:\u001b[0m\u001b[1;36m3\u001b[0m\u001b[1;33m]\u001b[0m\u001b[1;33m=\u001b[0m\u001b[1;34m'Larry'\u001b[0m\u001b[1;33m,\u001b[0m\u001b[1;34m'Bob'\u001b[0m\u001b[1;33m\u001b[0m\u001b[1;33m\u001b[0m\u001b[0m\n\u001b[1;32m----> 3\u001b[1;33m \u001b[0muser_names_tuple4\u001b[0m\u001b[1;33m[\u001b[0m\u001b[1;36m1\u001b[0m\u001b[1;33m]\u001b[0m\u001b[1;33m=\u001b[0m\u001b[1;34m'Larry'\u001b[0m\u001b[1;33m\u001b[0m\u001b[1;33m\u001b[0m\u001b[0m\n\u001b[0m",
      "\u001b[1;31mTypeError\u001b[0m: 'tuple' object does not support item assignment"
     ]
    }
   ],
   "source": [
    "# changing elements in a list and tuple\n",
    "user_names_list2[1:3]='Larry','Bob'\n",
    "user_names_tuple4[1]='Larry'"
   ]
  },
  {
   "cell_type": "code",
   "execution_count": 50,
   "metadata": {},
   "outputs": [
    {
     "data": {
      "text/plain": [
       "['Manuel', 'Larry', 'Bob', 'Harry']"
      ]
     },
     "execution_count": 50,
     "metadata": {},
     "output_type": "execute_result"
    }
   ],
   "source": [
    "user_names_list2."
   ]
  },
  {
   "cell_type": "code",
   "execution_count": 55,
   "metadata": {},
   "outputs": [
    {
     "data": {
      "text/plain": [
       "('Manuel', 'Max', 'James', 'Harry')"
      ]
     },
     "execution_count": 55,
     "metadata": {},
     "output_type": "execute_result"
    }
   ],
   "source": [
    "user_names_tuple4"
   ]
  },
  {
   "cell_type": "code",
   "execution_count": 54,
   "metadata": {},
   "outputs": [
    {
     "data": {
      "text/plain": [
       "['Manuel', 'Larry', 'Bob', 'Harry', 'Sammy']"
      ]
     },
     "execution_count": 54,
     "metadata": {},
     "output_type": "execute_result"
    }
   ],
   "source": [
    "user_names_list2.append('Sammy')\n",
    "user_names_list2"
   ]
  },
  {
   "cell_type": "code",
   "execution_count": 57,
   "metadata": {},
   "outputs": [
    {
     "data": {
      "text/plain": [
       "1"
      ]
     },
     "execution_count": 57,
     "metadata": {},
     "output_type": "execute_result"
    }
   ],
   "source": [
    "user_names_tuple4.count('Manuel')"
   ]
  },
  {
   "cell_type": "code",
   "execution_count": 58,
   "metadata": {},
   "outputs": [
    {
     "data": {
      "text/plain": [
       "0"
      ]
     },
     "execution_count": 58,
     "metadata": {},
     "output_type": "execute_result"
    }
   ],
   "source": [
    "user_names_tuple4.index('Manuel')"
   ]
  },
  {
   "cell_type": "markdown",
   "metadata": {},
   "source": [
    "# Tuple unpacking and Multiple Variable Assignment"
   ]
  },
  {
   "cell_type": "code",
   "execution_count": 86,
   "metadata": {},
   "outputs": [
    {
     "name": "stdout",
     "output_type": "stream",
     "text": [
      "Manuel\n"
     ]
    }
   ],
   "source": [
    "user_data = ('Manuel', 31, 'Male', 5, 8, 'Brown', 'Married', 'something_else', 'something_else2', 8, 9)\n",
    "print(user_data[0])"
   ]
  },
  {
   "cell_type": "code",
   "execution_count": 87,
   "metadata": {},
   "outputs": [
    {
     "data": {
      "text/plain": [
       "'Manuel'"
      ]
     },
     "execution_count": 87,
     "metadata": {},
     "output_type": "execute_result"
    }
   ],
   "source": [
    "name = user_data[0]\n",
    "name"
   ]
  },
  {
   "cell_type": "code",
   "execution_count": 88,
   "metadata": {},
   "outputs": [],
   "source": [
    "# assign all the elements in the TUPLE user_data to individual variables\n",
    "\n",
    "name, age, gender, height_ft, height_in, Hair_color, Marital_status, *other_stuff = user_data"
   ]
  },
  {
   "cell_type": "code",
   "execution_count": 89,
   "metadata": {},
   "outputs": [
    {
     "name": "stdout",
     "output_type": "stream",
     "text": [
      "Manuel 31 Male 5 8 Brown Married ['something_else', 'something_else2', 8, 9]\n",
      "8\n",
      "Married\n",
      "['something_else', 'something_else2', 8, 9]\n"
     ]
    }
   ],
   "source": [
    "print (name, age, gender, height_ft, height_in, Hair_color, Marital_status, other_stuff)\n",
    "print (height_in)\n",
    "print (Marital_status)\n",
    "print (other_stuff)"
   ]
  },
  {
   "cell_type": "code",
   "execution_count": 90,
   "metadata": {},
   "outputs": [
    {
     "data": {
      "text/plain": [
       "\"The candidate's name is Manuel. He is 31 years old and has Brown hair. He is also Married and stands 5 feet 8 inches tall.\""
      ]
     },
     "execution_count": 90,
     "metadata": {},
     "output_type": "execute_result"
    }
   ],
   "source": [
    "f\"The candidate's name is {name}. He is {age} years old and has {Hair_color} hair. He is also \\\n",
    "{Marital_status} and stands {height_ft} feet {height_in} inches tall.\"\n",
    "# f\"The \\\"comedian\\\" is {name}, aged {age}.\""
   ]
  },
  {
   "cell_type": "markdown",
   "metadata": {},
   "source": [
    "# you can use multiple variable assignment on lists as well as tuples"
   ]
  },
  {
   "cell_type": "code",
   "execution_count": 91,
   "metadata": {},
   "outputs": [
    {
     "name": "stdout",
     "output_type": "stream",
     "text": [
      "Manuel\n",
      "Max\n",
      "Manuel Max James Harry\n",
      "['Sally', 'Beth', 'Holly']\n"
     ]
    }
   ],
   "source": [
    "\n",
    "user_names_list2 = ['Manuel', 'Max', 'James', 'Harry', 'Sally', 'Beth', 'Holly']\n",
    "first, second, third, fourth, *other = user_names_list2\n",
    "print(first)\n",
    "print(second)\n",
    "print(first, second, third, fourth)\n",
    "print(other)"
   ]
  },
  {
   "cell_type": "code",
   "execution_count": 92,
   "metadata": {},
   "outputs": [
    {
     "name": "stdout",
     "output_type": "stream",
     "text": [
      "Enter your email: kenneth.nbt@gmail.com\n",
      "Enter your password123\n",
      "('kenneth.nbt@gmail.com', '123')\n"
     ]
    }
   ],
   "source": [
    "def get_user_data():\n",
    "    user_email = input ('Enter your email: ')\n",
    "    user_password = input('Enter your password')\n",
    "    \n",
    "    return (user_email, user_password)\n",
    "\n",
    "signup_data = get_user_data()\n",
    "print (signup_data)"
   ]
  },
  {
   "cell_type": "code",
   "execution_count": null,
   "metadata": {},
   "outputs": [],
   "source": []
  }
 ],
 "metadata": {
  "kernelspec": {
   "display_name": "Python [conda env:PythonData] *",
   "language": "python",
   "name": "conda-env-PythonData-py"
  },
  "language_info": {
   "codemirror_mode": {
    "name": "ipython",
    "version": 3
   },
   "file_extension": ".py",
   "mimetype": "text/x-python",
   "name": "python",
   "nbconvert_exporter": "python",
   "pygments_lexer": "ipython3",
   "version": "3.6.10"
  }
 },
 "nbformat": 4,
 "nbformat_minor": 4
}
