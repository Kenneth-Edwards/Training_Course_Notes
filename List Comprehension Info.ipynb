{
 "cells": [
  {
   "cell_type": "code",
   "execution_count": 4,
   "metadata": {},
   "outputs": [],
   "source": [
    "# Dependencies\n",
    "import json\n",
    "import requests\n",
    "from pprint import pprint\n",
    "from config import api_key\n",
    "import pandas as pd\n",
    "import numpy as np\n"
   ]
  },
  {
   "cell_type": "code",
   "execution_count": null,
   "metadata": {},
   "outputs": [],
   "source": [
    "# List Comprehension info:\n",
    "# \t[expression for val in collection]\n",
    "# \t[expression for val in collection if <test>]   expr is added only if the IF test is true.\n",
    "# \t[expression for val in collection if <test> and <test2>]    expr is added only if the all IF test are true.\n",
    "\n",
    "# You can also loop over more than one colletion:\n",
    "# \t[expression for val1 in collection1 and val2 in collection2]\n"
   ]
  },
  {
   "cell_type": "code",
   "execution_count": 2,
   "metadata": {},
   "outputs": [
    {
     "name": "stdout",
     "output_type": "stream",
     "text": [
      "[1, 4, 9, 16, 25, 36, 49, 64, 81, 100, 121, 144, 169, 196, 225, 256, 289, 324, 361, 400, 441, 484, 529, 576, 625, 676, 729, 784, 841, 900, 961, 1024, 1089, 1156, 1225, 1296, 1369, 1444, 1521, 1600, 1681, 1764, 1849, 1936, 2025, 2116, 2209, 2304, 2401, 2500, 2601, 2704, 2809, 2916, 3025, 3136, 3249, 3364, 3481, 3600, 3721, 3844, 3969, 4096, 4225, 4356, 4489, 4624, 4761, 4900, 5041, 5184, 5329, 5476, 5625, 5776, 5929, 6084, 6241, 6400, 6561, 6724, 6889, 7056, 7225, 7396, 7569, 7744, 7921, 8100, 8281, 8464, 8649, 8836, 9025, 9216, 9409, 9604, 9801, 10000]\n"
     ]
    }
   ],
   "source": [
    "squares = []\n",
    "for i in range(1,101):\n",
    "    squares.append(i**2)\n",
    "    \n",
    "print(squares)"
   ]
  },
  {
   "cell_type": "code",
   "execution_count": 3,
   "metadata": {},
   "outputs": [
    {
     "name": "stdout",
     "output_type": "stream",
     "text": [
      "[1, 4, 9, 16, 25, 36, 49, 64, 81, 100, 121, 144, 169, 196, 225, 256, 289, 324, 361, 400, 441, 484, 529, 576, 625, 676, 729, 784, 841, 900, 961, 1024, 1089, 1156, 1225, 1296, 1369, 1444, 1521, 1600, 1681, 1764, 1849, 1936, 2025, 2116, 2209, 2304, 2401, 2500, 2601, 2704, 2809, 2916, 3025, 3136, 3249, 3364, 3481, 3600, 3721, 3844, 3969, 4096, 4225, 4356, 4489, 4624, 4761, 4900, 5041, 5184, 5329, 5476, 5625, 5776, 5929, 6084, 6241, 6400, 6561, 6724, 6889, 7056, 7225, 7396, 7569, 7744, 7921, 8100, 8281, 8464, 8649, 8836, 9025, 9216, 9409, 9604, 9801, 10000]\n"
     ]
    }
   ],
   "source": [
    "squares2 = [i**2 for i in range(1,101)]\n",
    "print(squares2)"
   ]
  },
  {
   "cell_type": "code",
   "execution_count": 4,
   "metadata": {},
   "outputs": [
    {
     "name": "stdout",
     "output_type": "stream",
     "text": [
      "[1, 4, 4, 1, 0, 1, 4, 4, 1, 0, 1, 4, 4, 1, 0, 1, 4, 4, 1, 0, 1, 4, 4, 1, 0, 1, 4, 4, 1, 0, 1, 4, 4, 1, 0, 1, 4, 4, 1, 0, 1, 4, 4, 1, 0, 1, 4, 4, 1, 0, 1, 4, 4, 1, 0, 1, 4, 4, 1, 0, 1, 4, 4, 1, 0, 1, 4, 4, 1, 0, 1, 4, 4, 1, 0, 1, 4, 4, 1, 0, 1, 4, 4, 1, 0, 1, 4, 4, 1, 0, 1, 4, 4, 1, 0, 1, 4, 4, 1, 0]\n"
     ]
    }
   ],
   "source": [
    "# create a list of remainders when you divide the first 100 squares by 5 \n",
    "# (to find the remainder when you divide by 5 use the % operater)\n",
    "remainders5 = [x**2 % 5 for x in range(1,101)]\n",
    "print(remainders5)\n",
    "# there are only three perfect squares mod5 :  0, 1, & 4"
   ]
  },
  {
   "cell_type": "code",
   "execution_count": 5,
   "metadata": {},
   "outputs": [
    {
     "name": "stdout",
     "output_type": "stream",
     "text": [
      "[1, 4, 9, 5, 3, 3, 5, 9, 4, 1, 0, 1, 4, 9, 5, 3, 3, 5, 9, 4, 1, 0, 1, 4, 9, 5, 3, 3, 5, 9, 4, 1, 0, 1, 4, 9, 5, 3, 3, 5, 9, 4, 1, 0, 1, 4, 9, 5, 3, 3, 5, 9, 4, 1, 0, 1, 4, 9, 5, 3, 3, 5, 9, 4, 1, 0, 1, 4, 9, 5, 3, 3, 5, 9, 4, 1, 0, 1, 4, 9, 5, 3, 3, 5, 9, 4, 1, 0, 1, 4, 9, 5, 3, 3, 5, 9, 4, 1, 0, 1]\n"
     ]
    }
   ],
   "source": [
    "#\n",
    "remainders11 = [x**2 % 11 for x in range(1,101)]\n",
    "print(remainders11)"
   ]
  },
  {
   "cell_type": "code",
   "execution_count": 7,
   "metadata": {},
   "outputs": [
    {
     "name": "stdout",
     "output_type": "stream",
     "text": [
      "[0, 1, 4, 9, 16, 8, 2, 15, 13, 13, 15, 2, 8, 16, 9, 4, 1]\n"
     ]
    }
   ],
   "source": [
    "p_remainders = [x**2 % 17 for x in range(0, 17)]\n",
    "print(p_remainders)"
   ]
  },
  {
   "cell_type": "code",
   "execution_count": 8,
   "metadata": {},
   "outputs": [
    {
     "name": "stdout",
     "output_type": "stream",
     "text": [
      "['Gandhi', 'Ghostbusters', 'Gattaca']\n"
     ]
    }
   ],
   "source": [
    "#without list comprehension\n",
    "movies = [\"Star Wars\", \"Gandhi\", \"Casablanca\", \"Toy Story\", \"Ghostbusters\", \"Rear Window\", \"Gattaca\"]\n",
    "gmovies = []\n",
    "for title in movies:\n",
    "    if title.startswith(\"G\"):\n",
    "        gmovies.append(title)\n",
    "print(gmovies)"
   ]
  },
  {
   "cell_type": "code",
   "execution_count": 1,
   "metadata": {},
   "outputs": [
    {
     "name": "stdout",
     "output_type": "stream",
     "text": [
      "['Star Wars', 'Gandhi', 'Casablanca', 'Toy Story', 'Ghostbusters', 'Rear Window', 'Gattaca']\n"
     ]
    }
   ],
   "source": [
    "#using a list comprehension\n",
    "movies = [\"Star Wars\", \"Gandhi\", \"Casablanca\", \"Toy Story\", \"Ghostbusters\", \"Rear Window\", \"Gattaca\"]\n",
    "gmovies2 = [title for title in movies if title.startswith != (\"G\")]\n",
    "print(gmovies2)"
   ]
  },
  {
   "cell_type": "code",
   "execution_count": 19,
   "metadata": {},
   "outputs": [
    {
     "name": "stdout",
     "output_type": "stream",
     "text": [
      "['Citizen Kane', 'Gattaca', 'Groundhog Day', 'George', 'Ghostbusters']\n"
     ]
    }
   ],
   "source": [
    "'''Find movies released prior to the year 2000''' \n",
    "''' ******** Movies is a list of Tuples *****'''\n",
    "\n",
    "MOVIES = [(\"Citizen Kane\", 1941), (\"Spirited Away\", 2001), (\"Gattaca\", 1997), (\"Groundhog Day\", 1993), (\"Gandhi\", 2000), \n",
    "         (\"George\", 1980), (\"Ghostbusters\", 1990)]\n",
    "movies2g = [title for (title, year) in MOVIES if year < 2000]\n",
    "print(movies2g)"
   ]
  },
  {
   "cell_type": "code",
   "execution_count": 20,
   "metadata": {},
   "outputs": [
    {
     "data": {
      "text/plain": [
       "[2, -3, 1, 2, -3, 1, 2, -3, 1, 2, -3, 1]"
      ]
     },
     "execution_count": 20,
     "metadata": {},
     "output_type": "execute_result"
    }
   ],
   "source": [
    "# Note the following produces the list 4 times\n",
    "v = [2, -3, 1]\n",
    "4*v"
   ]
  },
  {
   "cell_type": "code",
   "execution_count": 21,
   "metadata": {},
   "outputs": [
    {
     "data": {
      "text/plain": [
       "[2, 4, 6, 1, 3]"
      ]
     },
     "execution_count": 21,
     "metadata": {},
     "output_type": "execute_result"
    }
   ],
   "source": [
    "# Note adding list simply concatenates them\n",
    "[2,4,6] + [1,3]"
   ]
  },
  {
   "cell_type": "code",
   "execution_count": 22,
   "metadata": {},
   "outputs": [
    {
     "name": "stdout",
     "output_type": "stream",
     "text": [
      "[8, -12, 4]\n"
     ]
    }
   ],
   "source": [
    "# if you want to perform scaler math do the following in a list comprehension\n",
    "w = [4*x for x in v]\n",
    "print(w)"
   ]
  },
  {
   "cell_type": "code",
   "execution_count": 23,
   "metadata": {},
   "outputs": [
    {
     "name": "stdout",
     "output_type": "stream",
     "text": [
      "[([1, 3, 5, 7], [2, 4, 6, 8]), ([1, 3, 5, 7], [2, 4, 6, 8]), ([1, 3, 5, 7], [2, 4, 6, 8]), ([1, 3, 5, 7], [2, 4, 6, 8]), ([1, 3, 5, 7], [2, 4, 6, 8]), ([1, 3, 5, 7], [2, 4, 6, 8]), ([1, 3, 5, 7], [2, 4, 6, 8]), ([1, 3, 5, 7], [2, 4, 6, 8]), ([1, 3, 5, 7], [2, 4, 6, 8]), ([1, 3, 5, 7], [2, 4, 6, 8]), ([1, 3, 5, 7], [2, 4, 6, 8]), ([1, 3, 5, 7], [2, 4, 6, 8]), ([1, 3, 5, 7], [2, 4, 6, 8]), ([1, 3, 5, 7], [2, 4, 6, 8]), ([1, 3, 5, 7], [2, 4, 6, 8]), ([1, 3, 5, 7], [2, 4, 6, 8])]\n"
     ]
    }
   ],
   "source": [
    "# solve the cartesion product\n",
    "A = [1,3,5,7]\n",
    "B = [2,4,6,8]\n",
    "cartesion_product = [(A,B) for a in A for b in B]\n",
    "print(cartesion_product)\n",
    "# produces all 16 possible pairs"
   ]
  },
  {
   "cell_type": "code",
   "execution_count": null,
   "metadata": {},
   "outputs": [],
   "source": []
  },
  {
   "cell_type": "code",
   "execution_count": null,
   "metadata": {},
   "outputs": [],
   "source": []
  }
 ],
 "metadata": {
  "kernelspec": {
   "display_name": "Python 3",
   "language": "python",
   "name": "python3"
  },
  "language_info": {
   "codemirror_mode": {
    "name": "ipython",
    "version": 3
   },
   "file_extension": ".py",
   "mimetype": "text/x-python",
   "name": "python",
   "nbconvert_exporter": "python",
   "pygments_lexer": "ipython3",
   "version": "3.6.10"
  },
  "varInspector": {
   "cols": {
    "lenName": 16,
    "lenType": 16,
    "lenVar": 40
   },
   "kernels_config": {
    "python": {
     "delete_cmd_postfix": "",
     "delete_cmd_prefix": "del ",
     "library": "var_list.py",
     "varRefreshCmd": "print(var_dic_list())"
    },
    "r": {
     "delete_cmd_postfix": ") ",
     "delete_cmd_prefix": "rm(",
     "library": "var_list.r",
     "varRefreshCmd": "cat(var_dic_list()) "
    }
   },
   "types_to_exclude": [
    "module",
    "function",
    "builtin_function_or_method",
    "instance",
    "_Feature"
   ],
   "window_display": false
  }
 },
 "nbformat": 4,
 "nbformat_minor": 2
}
