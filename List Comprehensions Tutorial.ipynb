{
 "cells": [
  {
   "cell_type": "markdown",
   "metadata": {},
   "source": [
    "# List Comprehensions  Tutorial\n",
    "* Academind Youtube: https://www.youtube.com/watch?v=E1ZAVEmRwyI\n",
    "* Article: https://www.youtube.com/redirect?v=E1ZAVEmRwyI&event=video_description&redir_token=HbVwKXUB2KRsTfrRJ2VFN84BWVl8MTU4NjgwMzk3NUAxNTg2NzE3NTc1&q=https%3A%2F%2Facademind.com%2Flearn%2Fpython%2Flist-comprehensions%2F\n",
    "\n",
    "https://academind.com/learn/python/list-comprehensions/\n",
    "https://www.youtube.com/c/Academind/search?query=Comprehensions\n",
    "Manuel Lorenz"
   ]
  },
  {
   "cell_type": "markdown",
   "metadata": {},
   "source": [
    "### List Comprehensions \n",
    "* Manipulating List Items\n",
    "* Extracting Information\n",
    "* Filtering List"
   ]
  },
  {
   "cell_type": "code",
   "execution_count": 1,
   "metadata": {},
   "outputs": [
    {
     "data": {
      "text/plain": [
       "[1, 2, 3, 1, 2, 3]"
      ]
     },
     "execution_count": 1,
     "metadata": {},
     "output_type": "execute_result"
    }
   ],
   "source": [
    "# multiply each item in the list by 2\n",
    "my_list = [1,2,3]\n",
    "\n",
    "x = my_list * 2\n",
    "x"
   ]
  },
  {
   "cell_type": "code",
   "execution_count": 3,
   "metadata": {},
   "outputs": [
    {
     "data": {
      "text/plain": [
       "[2, 4, 6]"
      ]
     },
     "execution_count": 3,
     "metadata": {},
     "output_type": "execute_result"
    }
   ],
   "source": [
    "# Above action does not work. It simply created a new list contain the original values twice\n",
    "\n",
    "double = []\n",
    "\n",
    "for item in my_list:\n",
    "    z = item * 2\n",
    "    double.append(z)\n",
    "    \n",
    "double"
   ]
  },
  {
   "cell_type": "code",
   "execution_count": 4,
   "metadata": {},
   "outputs": [
    {
     "data": {
      "text/plain": [
       "[2, 4, 6]"
      ]
     },
     "execution_count": 4,
     "metadata": {},
     "output_type": "execute_result"
    }
   ],
   "source": [
    "\n",
    "double = []\n",
    "\n",
    "for item in my_list:\n",
    "    double.append(item * 2)\n",
    "    \n",
    "double"
   ]
  },
  {
   "cell_type": "code",
   "execution_count": 5,
   "metadata": {},
   "outputs": [
    {
     "data": {
      "text/plain": [
       "[4, 6, 8]"
      ]
     },
     "execution_count": 5,
     "metadata": {},
     "output_type": "execute_result"
    }
   ],
   "source": [
    "# creating a list comprehension\n",
    "\n",
    "my_list = [2,3,4]\n",
    "double2 = [item*2 for item in my_list]\n",
    "double2"
   ]
  },
  {
   "cell_type": "code",
   "execution_count": 6,
   "metadata": {},
   "outputs": [
    {
     "data": {
      "text/plain": [
       "['Manuel', 'Max', 'Dereck']"
      ]
     },
     "execution_count": 6,
     "metadata": {},
     "output_type": "execute_result"
    }
   ],
   "source": [
    "users = [{'name':'Manuel', 'age':31},{'name':'Max','age':30},{'name':'Dereck','age':38}]\n",
    "user_name =[user['name'] for user in users]\n",
    "user_name"
   ]
  },
  {
   "cell_type": "markdown",
   "metadata": {},
   "source": [
    "# Filtering\n",
    "* create a filter by adding a conditional after the for loop"
   ]
  },
  {
   "cell_type": "code",
   "execution_count": 12,
   "metadata": {},
   "outputs": [
    {
     "data": {
      "text/plain": [
       "['Dereck']"
      ]
     },
     "execution_count": 12,
     "metadata": {},
     "output_type": "execute_result"
    }
   ],
   "source": [
    "users = [{'name':'Manuel', 'age':31},{'name':'Max','age':30},{'name':'Dereck','age':38}]\n",
    "user_name =[user['name'] for user in users if user['age'] > 30 and user['name'] == 'Dereck']\n",
    "user_name"
   ]
  },
  {
   "cell_type": "markdown",
   "metadata": {},
   "source": [
    "# nested list comprehensions "
   ]
  },
  {
   "cell_type": "code",
   "execution_count": 15,
   "metadata": {},
   "outputs": [
    {
     "data": {
      "text/plain": [
       "['Manuel', 'Sarah']"
      ]
     },
     "execution_count": 15,
     "metadata": {},
     "output_type": "execute_result"
    }
   ],
   "source": [
    "user_groups = [\n",
    "    [\n",
    "        {'name':'Manuel', 'age':31},\n",
    "        {'name':'Max','age':30} \n",
    "    ],\n",
    "    [\n",
    "        {'name':'Sarah', 'age':41},\n",
    "        {'name':'Mary','age':40}\n",
    "    ]]\n",
    "\n",
    "user_name = [person['name'] for group in user_groups for person in group if person['age'] ==31 or person['age'] ==41]\n",
    "user_name"
   ]
  },
  {
   "cell_type": "code",
   "execution_count": null,
   "metadata": {},
   "outputs": [],
   "source": []
  },
  {
   "cell_type": "code",
   "execution_count": null,
   "metadata": {},
   "outputs": [],
   "source": []
  },
  {
   "cell_type": "code",
   "execution_count": null,
   "metadata": {},
   "outputs": [],
   "source": []
  }
 ],
 "metadata": {
  "kernelspec": {
   "display_name": "Python [conda env:PythonData] *",
   "language": "python",
   "name": "conda-env-PythonData-py"
  },
  "language_info": {
   "codemirror_mode": {
    "name": "ipython",
    "version": 3
   },
   "file_extension": ".py",
   "mimetype": "text/x-python",
   "name": "python",
   "nbconvert_exporter": "python",
   "pygments_lexer": "ipython3",
   "version": "3.6.10"
  }
 },
 "nbformat": 4,
 "nbformat_minor": 4
}
