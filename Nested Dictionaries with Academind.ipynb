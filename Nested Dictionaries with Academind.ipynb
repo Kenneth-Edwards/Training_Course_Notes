{
 "cells": [
  {
   "cell_type": "code",
   "execution_count": null,
   "metadata": {},
   "outputs": [],
   "source": [
    "# located in C:\\Users\\Owner\\Desktop\\UNC BootCamp\\Academind Notes"
   ]
  },
  {
   "cell_type": "code",
   "execution_count": 1,
   "metadata": {},
   "outputs": [],
   "source": [
    "import json\n",
    "with open('./json_dictionary_source-data_academind2.json') as access_json:\n",
    "    read_content = json.load(access_json)"
   ]
  },
  {
   "cell_type": "code",
   "execution_count": 2,
   "metadata": {},
   "outputs": [
    {
     "data": {
      "text/plain": [
       "{'results': [{'_class': 'question',\n",
       "   'course': {'_class': 'course',\n",
       "    'title': 'Angular 7 (formerly Angular 2) - The Complete Guide',\n",
       "    'url': '/the-complete-guide-to-angular-2/'},\n",
       "   'replies': [{'_class': 'answer',\n",
       "     'user': {'_class': 'user',\n",
       "      'display_name': 'Maximilian Schwarzmueller'}}]},\n",
       "  {'_class': 'question',\n",
       "   'course': {'_class': 'course',\n",
       "    'title': 'Angular 7 (formerly Angular 2) - The Complete Guide',\n",
       "    'url': '/the-complete-guide-to-angular-2/'},\n",
       "   'replies': [{'_class': 'answer',\n",
       "     'user': {'_class': 'user', 'display_name': 'Maximilian Schwarzmueller'}},\n",
       "    {'_class': 'answer',\n",
       "     'user': {'_class': 'user', 'display_name': 'Daniel Weat'}}]},\n",
       "  {'_class': 'question',\n",
       "   'course': {'_class': 'course',\n",
       "    'title': 'Angular 7 (formerly Angular 2) - The Complete Guide',\n",
       "    'url': '/the-complete-guide-to-angular-2/'},\n",
       "   'replies': [{'_class': 'answer',\n",
       "     'user': {'_class': 'user', 'display_name': 'Maximilian Schwarzmueller'}},\n",
       "    {'_class': 'answer',\n",
       "     'user': {'_class': 'user', 'display_name': 'Mike Jauranol'}},\n",
       "    {'_class': 'answer',\n",
       "     'user': {'_class': 'user', 'display_name': 'Mike Jauranol'}},\n",
       "    {'_class': 'answer',\n",
       "     'user': {'_class': 'user',\n",
       "      'display_name': 'Maximilian Schwarzmueller'}}]},\n",
       "  {'_class': 'question',\n",
       "   'course': {'_class': 'course',\n",
       "    'title': 'Angular 7 (formerly Angular 2) - The Complete Guide',\n",
       "    'url': '/the-complete-guide-to-angular-2/'},\n",
       "   'replies': [{'_class': 'answer',\n",
       "     'user': {'_class': 'user',\n",
       "      'display_name': 'Maximilian Schwarzmueller'}}]},\n",
       "  {'_class': 'question',\n",
       "   'course': {'_class': 'course',\n",
       "    'title': 'Angular 7 (formerly Angular 2) - The Complete Guide',\n",
       "    'url': '/the-complete-guide-to-angular-2/'},\n",
       "   'replies': [{'_class': 'answer',\n",
       "     'user': {'_class': 'user', 'display_name': 'Maximilian Schwarzmueller'}},\n",
       "    {'_class': 'answer',\n",
       "     'user': {'_class': 'user', 'display_name': 'Bernd Raucher'}},\n",
       "    {'_class': 'answer',\n",
       "     'user': {'_class': 'user',\n",
       "      'display_name': 'Maximilian Schwarzmueller'}}]}]}"
      ]
     },
     "execution_count": 2,
     "metadata": {},
     "output_type": "execute_result"
    }
   ],
   "source": [
    "read_content"
   ]
  },
  {
   "cell_type": "code",
   "execution_count": 3,
   "metadata": {},
   "outputs": [
    {
     "data": {
      "text/plain": [
       "dict"
      ]
     },
     "execution_count": 3,
     "metadata": {},
     "output_type": "execute_result"
    }
   ],
   "source": [
    "type(read_content)"
   ]
  },
  {
   "cell_type": "code",
   "execution_count": 7,
   "metadata": {},
   "outputs": [],
   "source": [
    "with open('./json_dictionary_source-data_academind2.json') as access_json2:\n",
    "    read_content2 = json.load(access_json2)\n"
   ]
  },
  {
   "cell_type": "code",
   "execution_count": 8,
   "metadata": {},
   "outputs": [
    {
     "data": {
      "text/plain": [
       "dict"
      ]
     },
     "execution_count": 8,
     "metadata": {},
     "output_type": "execute_result"
    }
   ],
   "source": [
    "type(read_content2)"
   ]
  },
  {
   "cell_type": "code",
   "execution_count": 9,
   "metadata": {},
   "outputs": [
    {
     "data": {
      "text/plain": [
       "{'results': [{'_class': 'question',\n",
       "   'course': {'_class': 'course',\n",
       "    'title': 'Angular 7 (formerly Angular 2) - The Complete Guide',\n",
       "    'url': '/the-complete-guide-to-angular-2/'},\n",
       "   'replies': [{'_class': 'answer',\n",
       "     'user': {'_class': 'user',\n",
       "      'display_name': 'Maximilian Schwarzmueller'}}]},\n",
       "  {'_class': 'question',\n",
       "   'course': {'_class': 'course',\n",
       "    'title': 'Angular 7 (formerly Angular 2) - The Complete Guide',\n",
       "    'url': '/the-complete-guide-to-angular-2/'},\n",
       "   'replies': [{'_class': 'answer',\n",
       "     'user': {'_class': 'user', 'display_name': 'Maximilian Schwarzmueller'}},\n",
       "    {'_class': 'answer',\n",
       "     'user': {'_class': 'user', 'display_name': 'Daniel Weat'}}]},\n",
       "  {'_class': 'question',\n",
       "   'course': {'_class': 'course',\n",
       "    'title': 'Angular 7 (formerly Angular 2) - The Complete Guide',\n",
       "    'url': '/the-complete-guide-to-angular-2/'},\n",
       "   'replies': [{'_class': 'answer',\n",
       "     'user': {'_class': 'user', 'display_name': 'Maximilian Schwarzmueller'}},\n",
       "    {'_class': 'answer',\n",
       "     'user': {'_class': 'user', 'display_name': 'Mike Jauranol'}},\n",
       "    {'_class': 'answer',\n",
       "     'user': {'_class': 'user', 'display_name': 'Mike Jauranol'}},\n",
       "    {'_class': 'answer',\n",
       "     'user': {'_class': 'user',\n",
       "      'display_name': 'Maximilian Schwarzmueller'}}]},\n",
       "  {'_class': 'question',\n",
       "   'course': {'_class': 'course',\n",
       "    'title': 'Angular 7 (formerly Angular 2) - The Complete Guide',\n",
       "    'url': '/the-complete-guide-to-angular-2/'},\n",
       "   'replies': [{'_class': 'answer',\n",
       "     'user': {'_class': 'user',\n",
       "      'display_name': 'Maximilian Schwarzmueller'}}]},\n",
       "  {'_class': 'question',\n",
       "   'course': {'_class': 'course',\n",
       "    'title': 'Angular 7 (formerly Angular 2) - The Complete Guide',\n",
       "    'url': '/the-complete-guide-to-angular-2/'},\n",
       "   'replies': [{'_class': 'answer',\n",
       "     'user': {'_class': 'user', 'display_name': 'Maximilian Schwarzmueller'}},\n",
       "    {'_class': 'answer',\n",
       "     'user': {'_class': 'user', 'display_name': 'Bernd Raucher'}},\n",
       "    {'_class': 'answer',\n",
       "     'user': {'_class': 'user',\n",
       "      'display_name': 'Maximilian Schwarzmueller'}}]}]}"
      ]
     },
     "execution_count": 9,
     "metadata": {},
     "output_type": "execute_result"
    }
   ],
   "source": [
    "read_content2"
   ]
  },
  {
   "cell_type": "code",
   "execution_count": 10,
   "metadata": {},
   "outputs": [],
   "source": [
    "question_access = read_content2['results']"
   ]
  },
  {
   "cell_type": "code",
   "execution_count": 11,
   "metadata": {},
   "outputs": [
    {
     "data": {
      "text/plain": [
       "list"
      ]
     },
     "execution_count": 11,
     "metadata": {},
     "output_type": "execute_result"
    }
   ],
   "source": [
    "type(question_access)"
   ]
  },
  {
   "cell_type": "code",
   "execution_count": 12,
   "metadata": {},
   "outputs": [
    {
     "data": {
      "text/plain": [
       "[{'_class': 'question',\n",
       "  'course': {'_class': 'course',\n",
       "   'title': 'Angular 7 (formerly Angular 2) - The Complete Guide',\n",
       "   'url': '/the-complete-guide-to-angular-2/'},\n",
       "  'replies': [{'_class': 'answer',\n",
       "    'user': {'_class': 'user', 'display_name': 'Maximilian Schwarzmueller'}}]},\n",
       " {'_class': 'question',\n",
       "  'course': {'_class': 'course',\n",
       "   'title': 'Angular 7 (formerly Angular 2) - The Complete Guide',\n",
       "   'url': '/the-complete-guide-to-angular-2/'},\n",
       "  'replies': [{'_class': 'answer',\n",
       "    'user': {'_class': 'user', 'display_name': 'Maximilian Schwarzmueller'}},\n",
       "   {'_class': 'answer',\n",
       "    'user': {'_class': 'user', 'display_name': 'Daniel Weat'}}]},\n",
       " {'_class': 'question',\n",
       "  'course': {'_class': 'course',\n",
       "   'title': 'Angular 7 (formerly Angular 2) - The Complete Guide',\n",
       "   'url': '/the-complete-guide-to-angular-2/'},\n",
       "  'replies': [{'_class': 'answer',\n",
       "    'user': {'_class': 'user', 'display_name': 'Maximilian Schwarzmueller'}},\n",
       "   {'_class': 'answer',\n",
       "    'user': {'_class': 'user', 'display_name': 'Mike Jauranol'}},\n",
       "   {'_class': 'answer',\n",
       "    'user': {'_class': 'user', 'display_name': 'Mike Jauranol'}},\n",
       "   {'_class': 'answer',\n",
       "    'user': {'_class': 'user', 'display_name': 'Maximilian Schwarzmueller'}}]},\n",
       " {'_class': 'question',\n",
       "  'course': {'_class': 'course',\n",
       "   'title': 'Angular 7 (formerly Angular 2) - The Complete Guide',\n",
       "   'url': '/the-complete-guide-to-angular-2/'},\n",
       "  'replies': [{'_class': 'answer',\n",
       "    'user': {'_class': 'user', 'display_name': 'Maximilian Schwarzmueller'}}]},\n",
       " {'_class': 'question',\n",
       "  'course': {'_class': 'course',\n",
       "   'title': 'Angular 7 (formerly Angular 2) - The Complete Guide',\n",
       "   'url': '/the-complete-guide-to-angular-2/'},\n",
       "  'replies': [{'_class': 'answer',\n",
       "    'user': {'_class': 'user', 'display_name': 'Maximilian Schwarzmueller'}},\n",
       "   {'_class': 'answer',\n",
       "    'user': {'_class': 'user', 'display_name': 'Bernd Raucher'}},\n",
       "   {'_class': 'answer',\n",
       "    'user': {'_class': 'user', 'display_name': 'Maximilian Schwarzmueller'}}]}]"
      ]
     },
     "execution_count": 12,
     "metadata": {},
     "output_type": "execute_result"
    }
   ],
   "source": [
    "question_access"
   ]
  },
  {
   "cell_type": "code",
   "execution_count": 13,
   "metadata": {},
   "outputs": [
    {
     "data": {
      "text/plain": [
       "{'_class': 'question',\n",
       " 'course': {'_class': 'course',\n",
       "  'title': 'Angular 7 (formerly Angular 2) - The Complete Guide',\n",
       "  'url': '/the-complete-guide-to-angular-2/'},\n",
       " 'replies': [{'_class': 'answer',\n",
       "   'user': {'_class': 'user', 'display_name': 'Maximilian Schwarzmueller'}}]}"
      ]
     },
     "execution_count": 13,
     "metadata": {},
     "output_type": "execute_result"
    }
   ],
   "source": [
    "question_access[0]"
   ]
  },
  {
   "cell_type": "code",
   "execution_count": 16,
   "metadata": {},
   "outputs": [
    {
     "name": "stdout",
     "output_type": "stream",
     "text": [
      "{'_class': 'question', 'course': {'_class': 'course', 'title': 'Angular 7 (formerly Angular 2) - The Complete Guide', 'url': '/the-complete-guide-to-angular-2/'}, 'replies': [{'_class': 'answer', 'user': {'_class': 'user', 'display_name': 'Maximilian Schwarzmueller'}}]}\n",
      "{'_class': 'question', 'course': {'_class': 'course', 'title': 'Angular 7 (formerly Angular 2) - The Complete Guide', 'url': '/the-complete-guide-to-angular-2/'}, 'replies': [{'_class': 'answer', 'user': {'_class': 'user', 'display_name': 'Maximilian Schwarzmueller'}}, {'_class': 'answer', 'user': {'_class': 'user', 'display_name': 'Daniel Weat'}}]}\n",
      "{'_class': 'question', 'course': {'_class': 'course', 'title': 'Angular 7 (formerly Angular 2) - The Complete Guide', 'url': '/the-complete-guide-to-angular-2/'}, 'replies': [{'_class': 'answer', 'user': {'_class': 'user', 'display_name': 'Maximilian Schwarzmueller'}}, {'_class': 'answer', 'user': {'_class': 'user', 'display_name': 'Mike Jauranol'}}, {'_class': 'answer', 'user': {'_class': 'user', 'display_name': 'Mike Jauranol'}}, {'_class': 'answer', 'user': {'_class': 'user', 'display_name': 'Maximilian Schwarzmueller'}}]}\n",
      "{'_class': 'question', 'course': {'_class': 'course', 'title': 'Angular 7 (formerly Angular 2) - The Complete Guide', 'url': '/the-complete-guide-to-angular-2/'}, 'replies': [{'_class': 'answer', 'user': {'_class': 'user', 'display_name': 'Maximilian Schwarzmueller'}}]}\n",
      "{'_class': 'question', 'course': {'_class': 'course', 'title': 'Angular 7 (formerly Angular 2) - The Complete Guide', 'url': '/the-complete-guide-to-angular-2/'}, 'replies': [{'_class': 'answer', 'user': {'_class': 'user', 'display_name': 'Maximilian Schwarzmueller'}}, {'_class': 'answer', 'user': {'_class': 'user', 'display_name': 'Bernd Raucher'}}, {'_class': 'answer', 'user': {'_class': 'user', 'display_name': 'Maximilian Schwarzmueller'}}]}\n"
     ]
    }
   ],
   "source": [
    "for question_data in question_access:\n",
    "    print(question_data)\n",
    "    "
   ]
  },
  {
   "cell_type": "code",
   "execution_count": 18,
   "metadata": {},
   "outputs": [
    {
     "data": {
      "text/plain": [
       "dict"
      ]
     },
     "execution_count": 18,
     "metadata": {},
     "output_type": "execute_result"
    }
   ],
   "source": [
    "type(question_data)"
   ]
  },
  {
   "cell_type": "code",
   "execution_count": 19,
   "metadata": {},
   "outputs": [],
   "source": [
    "replies_access = question_data['replies']"
   ]
  },
  {
   "cell_type": "code",
   "execution_count": 20,
   "metadata": {},
   "outputs": [
    {
     "data": {
      "text/plain": [
       "[{'_class': 'answer',\n",
       "  'user': {'_class': 'user', 'display_name': 'Maximilian Schwarzmueller'}},\n",
       " {'_class': 'answer',\n",
       "  'user': {'_class': 'user', 'display_name': 'Bernd Raucher'}},\n",
       " {'_class': 'answer',\n",
       "  'user': {'_class': 'user', 'display_name': 'Maximilian Schwarzmueller'}}]"
      ]
     },
     "execution_count": 20,
     "metadata": {},
     "output_type": "execute_result"
    }
   ],
   "source": [
    "replies_access"
   ]
  },
  {
   "cell_type": "code",
   "execution_count": 21,
   "metadata": {},
   "outputs": [
    {
     "data": {
      "text/plain": [
       "list"
      ]
     },
     "execution_count": 21,
     "metadata": {},
     "output_type": "execute_result"
    }
   ],
   "source": [
    "type(replies_access)"
   ]
  },
  {
   "cell_type": "code",
   "execution_count": 22,
   "metadata": {},
   "outputs": [
    {
     "name": "stdout",
     "output_type": "stream",
     "text": [
      "{'_class': 'answer', 'user': {'_class': 'user', 'display_name': 'Maximilian Schwarzmueller'}}\n",
      "{'_class': 'answer', 'user': {'_class': 'user', 'display_name': 'Bernd Raucher'}}\n",
      "{'_class': 'answer', 'user': {'_class': 'user', 'display_name': 'Maximilian Schwarzmueller'}}\n"
     ]
    }
   ],
   "source": [
    "for replies_data in replies_access:\n",
    "    print(replies_data)"
   ]
  },
  {
   "cell_type": "code",
   "execution_count": 23,
   "metadata": {},
   "outputs": [],
   "source": [
    "user_name = replies_data['user']['display_name']"
   ]
  },
  {
   "cell_type": "code",
   "execution_count": 24,
   "metadata": {},
   "outputs": [
    {
     "data": {
      "text/plain": [
       "'Maximilian Schwarzmueller'"
      ]
     },
     "execution_count": 24,
     "metadata": {},
     "output_type": "execute_result"
    }
   ],
   "source": [
    "user_name  # this is only giving you the last result"
   ]
  },
  {
   "cell_type": "code",
   "execution_count": 25,
   "metadata": {},
   "outputs": [],
   "source": [
    "def get_user_names():\n",
    "    question_access = read_content['results']\n",
    "    for question_data in question_access:\n",
    "        replies_access = question_data['replies']\n",
    "        for replies_data in replies_access:\n",
    "            user_name = replies_data['user']['display_name']\n",
    "#             print(user_name)\n",
    "            save_data.append(user_name)"
   ]
  },
  {
   "cell_type": "code",
   "execution_count": 26,
   "metadata": {},
   "outputs": [],
   "source": [
    "save_data = []"
   ]
  },
  {
   "cell_type": "code",
   "execution_count": 27,
   "metadata": {},
   "outputs": [],
   "source": [
    "get_user_names()"
   ]
  },
  {
   "cell_type": "code",
   "execution_count": 28,
   "metadata": {},
   "outputs": [
    {
     "data": {
      "text/plain": [
       "['Maximilian Schwarzmueller',\n",
       " 'Maximilian Schwarzmueller',\n",
       " 'Daniel Weat',\n",
       " 'Maximilian Schwarzmueller',\n",
       " 'Mike Jauranol',\n",
       " 'Mike Jauranol',\n",
       " 'Maximilian Schwarzmueller',\n",
       " 'Maximilian Schwarzmueller',\n",
       " 'Maximilian Schwarzmueller',\n",
       " 'Bernd Raucher',\n",
       " 'Maximilian Schwarzmueller']"
      ]
     },
     "execution_count": 28,
     "metadata": {},
     "output_type": "execute_result"
    }
   ],
   "source": [
    "save_data"
   ]
  },
  {
   "cell_type": "code",
   "execution_count": 29,
   "metadata": {},
   "outputs": [],
   "source": [
    "with open ('user_names_new.json', 'w') as namefile:\n",
    "    json.dump(save_data, namefile)"
   ]
  },
  {
   "cell_type": "code",
   "execution_count": null,
   "metadata": {},
   "outputs": [],
   "source": []
  }
 ],
 "metadata": {
  "kernelspec": {
   "display_name": "Python [conda env:PythonData] *",
   "language": "python",
   "name": "conda-env-PythonData-py"
  },
  "language_info": {
   "codemirror_mode": {
    "name": "ipython",
    "version": 3
   },
   "file_extension": ".py",
   "mimetype": "text/x-python",
   "name": "python",
   "nbconvert_exporter": "python",
   "pygments_lexer": "ipython3",
   "version": "3.6.10"
  }
 },
 "nbformat": 4,
 "nbformat_minor": 4
}
